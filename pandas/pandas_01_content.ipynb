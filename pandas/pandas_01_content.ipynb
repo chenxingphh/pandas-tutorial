{
 "cells": [
  {
   "cell_type": "code",
   "execution_count": 2,
   "metadata": {},
   "outputs": [],
   "source": [
    "'''\n",
    "@Author: Haihui Pan\n",
    "@Date: 2021-12-06\n",
    "@Ref:\n",
    "[1]:https://pandas.pydata.org/docs/user_guide/10min.html\n",
    "'''\n",
    "import pandas"
   ]
  },
  {
   "cell_type": "code",
   "execution_count": 3,
   "metadata": {},
   "outputs": [
    {
     "data": {
      "text/html": [
       "<img src=\"pd_01.png\",width=\"10%\",height=\"10%\">\n"
      ],
      "text/plain": [
       "<IPython.core.display.HTML object>"
      ]
     },
     "metadata": {},
     "output_type": "display_data"
    }
   ],
   "source": [
    "%%html\n",
    "<img src=\"pd_01.png\",width=\"10%\",height=\"10%\">"
   ]
  },
  {
   "cell_type": "markdown",
   "metadata": {},
   "source": [
    "* Pandas是一个用于数据处理和数据分析的Python三方库。Pandas可以从各种文件(txt,csv,excel,json...)中导入数据，并对数据进行运算操作(选择,拼接,统计...)。Pandas最主要的数据结构为Series(一维数据)和DataFrame(二维数据)"
   ]
  },
  {
   "cell_type": "markdown",
   "metadata": {},
   "source": [
    "* pandas_02_dataframe & series\n",
    "  - DataFrame & Series说明\n",
    "  - DataFrame初始化\n",
    "     - 通过dict初始化\n",
    "     - 读取文件数据初始化(excel,csv,txt,json)\n",
    "  - DataFrame保存\n",
    "     - 保存为指定文件（excel,csv,txt,json）\n",
    " \n",
    " * pandas_03_常用基础方法\n",
    "   - 查看数据: df.head(),df.tail()\n",
    "   - 数据大小: df.shape\n",
    "   - 字段的基础统信息: df.describe()\n",
    "   - 字段取值的统计: df.value_counts()\n",
    "   - 新增列 \n",
    "   - 字段非空信息: df.info()\n",
    "   - 缺失值处理\n",
    "      - 缺失值填充\n",
    "      - 删除缺失数据\n",
    "   - 遍历DataFrame\n",
    "   - 行列处理函数: df.apply \n",
    "   - 类别编码（将类别列映射为one-hot）\n",
    "\n",
    " * pandas_04_数据选取&分组&修改\n",
    "   - 数据选取\n",
    "     - 选取行&列数据\n",
    "     - 布尔索引（按指定条件索引）\n",
    "     - 位置索引(df.icol)\n",
    "   - 数据分组(Group)\n",
    "     - sum,average\n",
    "     - max,min\n",
    "     - count\n",
    "   - 数据修改\n",
    "     - 修改选取数据(df.loc)\n",
    "\n",
    " * pandas_05_多DataFrame处理\n",
    "   - 垂直拼接(pd.concat)\n",
    "   - 水平拼接(pd.merge)\n",
    " \n"
   ]
  },
  {
   "cell_type": "code",
   "execution_count": null,
   "metadata": {},
   "outputs": [],
   "source": []
  }
 ],
 "metadata": {
  "kernelspec": {
   "display_name": "env1",
   "language": "python",
   "name": "env1"
  },
  "language_info": {
   "codemirror_mode": {
    "name": "ipython",
    "version": 3
   },
   "file_extension": ".py",
   "mimetype": "text/x-python",
   "name": "python",
   "nbconvert_exporter": "python",
   "pygments_lexer": "ipython3",
   "version": "3.7.10"
  }
 },
 "nbformat": 4,
 "nbformat_minor": 2
}
